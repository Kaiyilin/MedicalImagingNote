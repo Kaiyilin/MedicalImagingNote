{
 "cells": [
  {
   "cell_type": "markdown",
   "metadata": {},
   "source": [
    "Take  **Sauvola's algorithm** as example\n",
    "It calculates the threshold value for each pixel as follows:\n",
    "\n",
    "\n",
    "```\n",
    "T(x, y) = m(x, y) * (1 + k * (s(x, y) / R - 1))\n",
    "```\n",
    "\n",
    "where:\n",
    "\n",
    "* T(x, y) is the threshold value at pixel (x, y)\n",
    "* m(x, y) is the mean value of the pixel's neighborhood\n",
    "* s(x, y) is the standard deviation of the pixel's neighborhood\n",
    "* R is the dynamic range of the image (typically 255)\n",
    "* k is a constant value (typically between 0.1 and 0.5)"
   ]
  },
  {
   "cell_type": "code",
   "execution_count": 1,
   "metadata": {},
   "outputs": [],
   "source": [
    "import pydicom\n",
    "import matplotlib.pyplot as plt  # for displaying images\n",
    "import numpy as np"
   ]
  },
  {
   "cell_type": "code",
   "execution_count": 2,
   "metadata": {},
   "outputs": [],
   "source": [
    "FILE_PATH = '../DICOMLearning/DICOM/ST000000/SE000000/MR000001'\n",
    "WINDOW_SIZE = 5"
   ]
  },
  {
   "cell_type": "code",
   "execution_count": null,
   "metadata": {},
   "outputs": [],
   "source": []
  }
 ],
 "metadata": {
  "kernelspec": {
   "display_name": "py_env",
   "language": "python",
   "name": "python3"
  },
  "language_info": {
   "codemirror_mode": {
    "name": "ipython",
    "version": 3
   },
   "file_extension": ".py",
   "mimetype": "text/x-python",
   "name": "python",
   "nbconvert_exporter": "python",
   "pygments_lexer": "ipython3",
   "version": "3.9.6"
  }
 },
 "nbformat": 4,
 "nbformat_minor": 2
}
